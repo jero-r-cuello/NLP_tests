{
 "cells": [
  {
   "cell_type": "code",
   "execution_count": null,
   "id": "81a74520-1cf4-4e0b-8d67-f0bcf22217f2",
   "metadata": {},
   "outputs": [],
   "source": [
    "#%%\n",
    "\n",
    "import pandas as pd\n",
    "from transformers import pipeline"
   ]
  },
  {
   "cell_type": "code",
   "execution_count": null,
   "id": "d5e93c55-4ca9-4346-b9e2-7d2958c50562",
   "metadata": {},
   "outputs": [],
   "source": [
    "#%% Funcion para pasar de un formato diccionario a uno df (Hecha por Dani L.)\n",
    "\n",
    "def huggingface_output_2_df(output_dict, add_to_col_names = None):\n",
    "\tfeature_names = [n.get('label') for n in output_dict[0]]\n",
    "\tif add_to_col_names:\n",
    "\t\tfeature_names = [add_to_col_names+n for n in feature_names]\n",
    "\tfeature_vectors = []\n",
    "\tfor doc in output_dict:\n",
    "\t\tfeature_vectors_doc = []\n",
    "\t\tfor feature in doc:\n",
    "\t\t\tfeature_vectors_doc.append(feature.get('score'))\n",
    "\t\tfeature_vectors.append(feature_vectors_doc)\n",
    "\tfeature_vectors = pd.DataFrame(feature_vectors, columns = feature_names)\n",
    "\treturn feature_vectors"
   ]
  },
  {
   "cell_type": "code",
   "execution_count": null,
   "id": "1d3b6bc1-9874-4fcf-8a58-3fa49a3d5390",
   "metadata": {},
   "outputs": [],
   "source": [
    "#%% Reportes de 1 sujeto (Sacado de Tomi D.)\n",
    "\n",
    "positive_transcripts = [\"Well, at the beginning there is a scene where we are shown swimming underwater, which can be relaxing but also very boring because nothing much happens. I get bored because nothing interesting happens. Then the baby giraffe and the adult giraffe appear, which I find very cute and funny. The same happens when other animals like the elephant appear; especially when there is an elephant I find it very cute and funny. At the end, the camera goes back underwater and I think it focuses on a stingray or a manta ray. But the same thing happens to me as in the beginning: although it's relaxing, I also get a little bored and lose attention because nothing happens in the video. So I don't know, I get bored and it doesn't generate as much excitement as a giraffe.\",\n",
    "    \"Well, the beginning is relaxing because you're watching the tent, there's no salt and you meet your friends. Then they go to a party which is a bit more lively, people are jumping and I find it fun. Then it gets dark, you start to see more people and everyone goes to the party. It's already like a “what's going on?” kind of party. I think it gets too out of control. I like to be in places when it's daylight, but hey, everyone is very happy and euphoric, so good for them. Although it looks like they got high too. It doesn't generate a negative emotion for me, more like it amuses me and I find people's reaction amusing.\",\n",
    "    \"Well, you see a badge with people enjoying themselves, all very relaxing. Then it becomes a bit dizzying because the image shows people in a kind of canoe or raft on a fast river, which looks dirty, like muddy. There they go with the raft, and at the end they are happy, which makes me happy too because it looks like they survived. Then a mountain is shown, which doesn't generate anything for me because it's just a mountain\",\n",
    "    \"Well, it looks fantastic, very relaxing, the water is clear, the sun is shining. Then it can be a little disturbing when a figure or a dog appears, but it doesn't look angry, so it's not very intimidating. The whole scene with the fish seems soothing and creates a sense of calmness for me.\",\n",
    "    \"Well, there are two people surfing and the second person gives me a bit of a laugh because his hair is combed and he looks like he's not wet. In general, the whole scene is joyful to me because the people are enjoying themselves so much. Seeing someone doing something they love so much gives me a sense of joy. Also, it looks fun and the whole video, along with the music, gives me the feeling that it's something enjoyable and fun.\",\n",
    "    \"The world of sofandas is a place where there is home or the narwhal and sofandas. At first it gives me a little bit of a shock because something falls down and I think 'please let it not be broken', but it looks fluffy, so I don't think it's broken very hard. Then they show a fun city and there are go-karts, which I also find fun and relaxing. Then not much else happens, they just show some buildings and a little dock, but it doesn't generate any excitement for me anymore. It's relaxing but I get a little bored.\",\n",
    "    \"Are you up for it? Yes. And I've certainly got the box car. I don't know, and it's started turning me around and I find it, throughout the video, super fun. It generated a sense of vertigo-type euphoria for me, but in a good way. I find it super fun, but it's not me. It's euphoric fun. And then at the end, nothing, I find it funny how it spins the car with less. I would recommend watching it in first person. Even though he imagines me with all the euphoria.\"]\n",
    "\n",
    "\n",
    "negative_transcripts = [\"What do you mean you counted yourself there? Well, I find it very relaxing to drive around that place, but I get angry when they take out their cell phones because they shouldn't do it while driving. Also, I find the women's voices annoying, they sound stupid and clearly you can't trust someone who drives like that. It also bothers me that he drives badly because driving fast on a road that is not safe is dangerous. It's obvious they're going to crash, right? Because that's the point of the video. At one point it looks like they don't crash and that gives a little bit of relief, going back to being relaxing. But then I don't know what happens, like the light goes out, I guess someone disturbs from behind and they end up colliding with a tractor. That surprises me because I thought the danger had passed, but no, they hit the tractor. I was a little amused and sorry because the noise they make is funny but the person is on the windshield and may be dead. I don't think he deserves that much, but oh well.\",\n",
    "    \"What's the way? When do you want to start? Are you okay? Are you okay? She doesn't let me know she's with him. She's fine, but okay. Then at the beginning you see the person in the water with the waves coming in and it looks to me like she's dead, which is sad. Not so much though, because if he got on a plane to shoot people, I mean, that's part of the job, it's not normal to get dropped. So I don't get that bad either. But hey, it's not that funny of a scene either. And then you see the plane in first person and the same thing, it scares me a little bit, but also like, well, these are things that happen in war. Clearly, the person knew what he was exposed to, so I don't think it's so bad. It's not that it generates intense emotions in me, but rather a sense of neutrality, understanding that it is a dangerous situation.\",\n",
    "    \"First I got scared because a woman appears all scared and I also got scared. Then a clown appears and it scares me a lot and also generates hatred in me. He keeps hitting obviously and I don't know what else he does, he is very aggressive. At the end it gives me relief because I realize that it was an act, part of a staging. But still, it generated quite a lot of anger for me.\",\n",
    "    \"Well, in three videos about the character driving, the first video generates anxiety for me because they are drinking and driving, and that gives me anguish. In the first video it looks like they're going to crash because of drunk driving, but then it turns out they're not, they're responsible because they didn't have any accidents, which relieves me. In the second video he steps on a baby, which is horrible and makes me very angry, because one should not drive distracted. He ends up in jail and I am happy that there is justice. In the last video, they go out drinking and crash into a truck for running a red light, which also makes me angry. It makes me upset because then others have to clean up the mess. The video ends and I feel a mixture of anger and relief for justice.\",\n",
    "    \"Well, it's a pretty boring video. First they show a perspective of the ground and some bugs that are insects, I guess those they wanted to show, but I'm not really interested. Then some mice appear, which I think is nice but not much happens in the video either. You see the mice eating and occasionally looking at the camera. Finally, the same with some rabbits, which I find even more cute because they make funny noises. The only thing that bothers me a bit is that it's not clear what those critters are. It's a bit of an ugly video\",\n",
    "    \"It scares me because snakes appear, which is worrying. I feel uncomfortable watching snakes because they scare me. Although there's nothing particularly dangerous in the video, it makes me anxious. Also, the bugs look gross and ugly to me. The scene is always the same, so it doesn't generate anything new for me. Sometimes they make noise and that kind of grosses me out.\",\n",
    "    \"Well, it intimidates me to have a house at night and it scares me because it looks like something is going to happen, typical horror movie. An old man with bad teeth shows up and tells me to get out of the house, which scares me but also makes me laugh because it's a cliché. Then, the other scene, it's like I'm being cast a spell. It seems obvious that something is going to happen with the nun. The shadow of the nun gives me anxiety and when she finally appears, it gives me a jump scare but also laughter because it's obvious. At the end, it shows you the nun to scare you a little more, but it's not as effective anymore.\"]"
   ]
  },
  {
   "cell_type": "code",
   "execution_count": null,
   "id": "75d8f96f-3d32-4196-815c-7e0ee54df9b8",
   "metadata": {},
   "outputs": [
    {
     "name": "stderr",
     "output_type": "stream",
     "text": [
      "No model was supplied, defaulted to distilbert-base-uncased-finetuned-sst-2-english and revision af0f99b (https://huggingface.co/distilbert-base-uncased-finetuned-sst-2-english).\n",
      "Using a pipeline without specifying a model name and revision in production is not recommended.\n",
      "c:\\Users\\54113\\anaconda3\\envs\\USAL_EDA\\Lib\\site-packages\\transformers\\pipelines\\text_classification.py:105: UserWarning: `return_all_scores` is now deprecated,  if want a similar functionality use `top_k=None` instead of `return_all_scores=True` or `top_k=1` instead of `return_all_scores=False`.\n",
      "  warnings.warn(\n"
     ]
    },
    {
     "name": "stdout",
     "output_type": "stream",
     "text": [
      "********** BERT Sentiment Analysis Results **********\n",
      "Sentence: Well, at the beginning there is a scene where we are shown swimming underwater, which can be relaxing but also very boring because nothing much happens. I get bored because nothing interesting happens. Then the baby giraffe and the adult giraffe appear, which I find very cute and funny. The same happens when other animals like the elephant appear; especially when there is an elephant I find it very cute and funny. At the end, the camera goes back underwater and I think it focuses on a stingray or a manta ray. But the same thing happens to me as in the beginning: although it's relaxing, I also get a little bored and lose attention because nothing happens in the video. So I don't know, I get bored and it doesn't generate as much excitement as a giraffe.\n",
      "Predicted Sentiment: NEGATIVE\n",
      "--------------------------------------------------\n",
      "Sentence: Well, the beginning is relaxing because you're watching the tent, there's no salt and you meet your friends. Then they go to a party which is a bit more lively, people are jumping and I find it fun. Then it gets dark, you start to see more people and everyone goes to the party. It's already like a “what's going on?” kind of party. I think it gets too out of control. I like to be in places when it's daylight, but hey, everyone is very happy and euphoric, so good for them. Although it looks like they got high too. It doesn't generate a negative emotion for me, more like it amuses me and I find people's reaction amusing.\n",
      "Predicted Sentiment: POSITIVE\n",
      "--------------------------------------------------\n",
      "Sentence: Well, you see a badge with people enjoying themselves, all very relaxing. Then it becomes a bit dizzying because the image shows people in a kind of canoe or raft on a fast river, which looks dirty, like muddy. There they go with the raft, and at the end they are happy, which makes me happy too because it looks like they survived. Then a mountain is shown, which doesn't generate anything for me because it's just a mountain\n",
      "Predicted Sentiment: NEGATIVE\n",
      "--------------------------------------------------\n",
      "Sentence: Well, it looks fantastic, very relaxing, the water is clear, the sun is shining. Then it can be a little disturbing when a figure or a dog appears, but it doesn't look angry, so it's not very intimidating. The whole scene with the fish seems soothing and creates a sense of calmness for me.\n",
      "Predicted Sentiment: POSITIVE\n",
      "--------------------------------------------------\n",
      "Sentence: Well, there are two people surfing and the second person gives me a bit of a laugh because his hair is combed and he looks like he's not wet. In general, the whole scene is joyful to me because the people are enjoying themselves so much. Seeing someone doing something they love so much gives me a sense of joy. Also, it looks fun and the whole video, along with the music, gives me the feeling that it's something enjoyable and fun.\n",
      "Predicted Sentiment: POSITIVE\n",
      "--------------------------------------------------\n",
      "Sentence: The world of sofandas is a place where there is home or the narwhal and sofandas. At first it gives me a little bit of a shock because something falls down and I think 'please let it not be broken', but it looks fluffy, so I don't think it's broken very hard. Then they show a fun city and there are go-karts, which I also find fun and relaxing. Then not much else happens, they just show some buildings and a little dock, but it doesn't generate any excitement for me anymore. It's relaxing but I get a little bored.\n",
      "Predicted Sentiment: NEGATIVE\n",
      "--------------------------------------------------\n",
      "Sentence: Are you up for it? Yes. And I've certainly got the box car. I don't know, and it's started turning me around and I find it, throughout the video, super fun. It generated a sense of vertigo-type euphoria for me, but in a good way. I find it super fun, but it's not me. It's euphoric fun. And then at the end, nothing, I find it funny how it spins the car with less. I would recommend watching it in first person. Even though he imagines me with all the euphoria.\n",
      "Predicted Sentiment: POSITIVE\n",
      "--------------------------------------------------\n"
     ]
    }
   ],
   "source": [
    "# %% Sentiment básico en negativo y positivo\n",
    "\n",
    "transcripts = positive_transcripts\n",
    "\n",
    "sentiment_pipeline = pipeline(\"sentiment-analysis\", framework=\"pt\")\n",
    "\n",
    "output_dict = sentiment_pipeline(transcripts, return_all_scores=True)\n",
    "feature_vectors = huggingface_output_2_df(output_dict)\n",
    "\n",
    "# Print results\n",
    "print(\"*\"*10,\"BERT Sentiment Analysis Results\",\"*\"*10)\n",
    "\n",
    "bert_results = []\n",
    "\n",
    "for idx in range(len(feature_vectors)):\n",
    "\ttranscript = transcripts[idx]\n",
    "\tlabel = feature_vectors.iloc[idx].idxmax()\n",
    "\tbert_results.append(label)\n",
    "\n",
    "\tprint(f\"Sentence: {transcript}\")\n",
    "\tprint(f\"Predicted Sentiment: {label}\")\n",
    "\tprint(\"-\" * 50)"
   ]
  },
  {
   "cell_type": "code",
   "execution_count": null,
   "id": "0891ed46-ae3b-4be6-8e9d-0d7fe0cd725e",
   "metadata": {},
   "outputs": [
    {
     "name": "stderr",
     "output_type": "stream",
     "text": [
      "c:\\Users\\54113\\anaconda3\\envs\\USAL_EDA\\Lib\\site-packages\\huggingface_hub\\file_download.py:795: FutureWarning: `resume_download` is deprecated and will be removed in version 1.0.0. Downloads always resume when possible. If you want to force a new download, use `force_download=True`.\n",
      "  warnings.warn(\n",
      "c:\\Users\\54113\\anaconda3\\envs\\USAL_EDA\\Lib\\site-packages\\transformers\\utils\\generic.py:311: FutureWarning: `torch.utils._pytree._register_pytree_node` is deprecated. Please use `torch.utils._pytree.register_pytree_node` instead.\n",
      "  torch.utils._pytree._register_pytree_node(\n"
     ]
    },
    {
     "name": "stdout",
     "output_type": "stream",
     "text": [
      "Roberta-Go_amusement         0.496817\n",
      "Roberta-Go_joy               0.188801\n",
      "Roberta-Go_annoyance         0.178678\n",
      "Roberta-Go_disappointment    0.168313\n",
      "Roberta-Go_admiration        0.098974\n",
      "Roberta-Go_realization       0.056602\n",
      "Roberta-Go_approval          0.042423\n",
      "Roberta-Go_disapproval       0.035536\n",
      "Roberta-Go_sadness           0.021121\n",
      "Roberta-Go_confusion         0.018529\n",
      "Roberta-Go_neutral           0.017141\n",
      "Roberta-Go_embarrassment     0.015529\n",
      "Roberta-Go_love              0.012724\n",
      "Roberta-Go_anger             0.010572\n",
      "Roberta-Go_disgust           0.010084\n",
      "Roberta-Go_excitement        0.009703\n",
      "Roberta-Go_curiosity         0.008594\n",
      "Roberta-Go_nervousness       0.008290\n",
      "Roberta-Go_relief            0.007828\n",
      "Roberta-Go_optimism          0.005038\n",
      "Roberta-Go_surprise          0.003495\n",
      "Roberta-Go_pride             0.003181\n",
      "Roberta-Go_desire            0.002940\n",
      "Roberta-Go_caring            0.002137\n",
      "Roberta-Go_remorse           0.002036\n",
      "Roberta-Go_grief             0.001989\n",
      "Roberta-Go_fear              0.001207\n",
      "Roberta-Go_gratitude         0.000882\n",
      "Name: 0, dtype: float64\n"
     ]
    }
   ],
   "source": [
    "# %% Sentiment con mayor granularidad emocional\n",
    "\n",
    "emotions_pipeline = pipeline(task=\"text-classification\", model=\"SamLowe/roberta-base-go_emotions\", top_k=None)\n",
    "\n",
    "output_dict = emotions_pipeline(positive_transcripts)\n",
    "feature_vectors = huggingface_output_2_df(output_dict, add_to_col_names = \"Roberta-Go_\")\n",
    "print(feature_vectors.iloc[0]) # Solo el primero para verlo mejor"
   ]
  },
  {
   "cell_type": "code",
   "execution_count": null,
   "id": "8b802a72-49bf-420b-8034-f8ed4bb92513",
   "metadata": {},
   "outputs": [
    {
     "data": {
      "text/plain": [
       "'\\ncategorical_emotions = []\\n\\nfor n in range(len(output_dict[0])):\\n    categorical_emotions.append(output_dict[0][n][\"label\"])\\n'"
      ]
     },
     "execution_count": 42,
     "metadata": {},
     "output_type": "execute_result"
    }
   ],
   "source": [
    "# %%\n",
    "\n",
    "\"\"\"\n",
    "categorical_emotions = []\n",
    "\n",
    "for n in range(len(output_dict[0])):\n",
    "    categorical_emotions.append(output_dict[0][n][\"label\"])\n",
    "\"\"\""
   ]
  }
 ],
 "metadata": {
  "language_info": {
   "codemirror_mode": {
    "name": "ipython",
    "version": 3
   },
   "file_extension": ".py",
   "mimetype": "text/x-python",
   "name": "python",
   "nbconvert_exporter": "python",
   "pygments_lexer": "ipython3",
   "version": 3
  }
 },
 "nbformat": 4,
 "nbformat_minor": 2
}
